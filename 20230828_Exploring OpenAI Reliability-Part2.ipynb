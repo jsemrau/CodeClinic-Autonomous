{
 "cells": [
  {
   "cell_type": "code",
   "execution_count": null,
   "id": "6e366067",
   "metadata": {},
   "outputs": [],
   "source": [
    "import sys\n",
    "print(sys.version)"
   ]
  },
  {
   "cell_type": "code",
   "execution_count": 14,
   "id": "084578e4",
   "metadata": {},
   "outputs": [],
   "source": [
    "import os, json, time"
   ]
  },
  {
   "cell_type": "code",
   "execution_count": 15,
   "id": "f67f1839",
   "metadata": {},
   "outputs": [],
   "source": [
    "import outlines.text.generate as generate\n",
    "import outlines.models as models\n"
   ]
  },
  {
   "cell_type": "code",
   "execution_count": 29,
   "id": "39e23306",
   "metadata": {},
   "outputs": [],
   "source": [
    "model = models.transformers(\"gpt2\")"
   ]
  },
  {
   "cell_type": "code",
   "execution_count": 28,
   "id": "77f9ad25",
   "metadata": {},
   "outputs": [
    {
     "name": "stdout",
     "output_type": "stream",
     "text": [
      " Review: That was really amazing, I would go again => Sentiment: negative\n",
      " Review: The food was terrible. I threw up for days. => Sentiment: positive\n",
      " Review: It was ok, I guess. 5/10 => Sentiment: negative\n"
     ]
    }
   ],
   "source": [
    "reviews=[\n",
    "        \"That was really amazing, I would go again\",\n",
    "        \"The food was terrible. I threw up for days.\",\n",
    "        \"It was ok, I guess. 5/10\",\n",
    "        ]\n",
    "\n",
    "def label(review):\n",
    "     \n",
    "    prompt = f\"\"\"You are a sentiment-labelling assistant.\n",
    "    Is the following restaurant review positive, neutral, or negative?\n",
    "    Review: {r}\n",
    "    \"\"\"\n",
    "    answer = generate.choice(model, [\"positive\",\"neutral\", \"negative\"])(prompt)\n",
    "    return answer\n",
    "    \n",
    "\n",
    "for r in reviews:\n",
    "    print(f\" Review: {r} => Sentiment: {label(r)}\")"
   ]
  },
  {
   "cell_type": "code",
   "execution_count": null,
   "id": "e2af5307",
   "metadata": {},
   "outputs": [],
   "source": [
    "\n"
   ]
  },
  {
   "cell_type": "code",
   "execution_count": null,
   "id": "c0c3def6",
   "metadata": {},
   "outputs": [],
   "source": []
  }
 ],
 "metadata": {
  "kernelspec": {
   "display_name": "Python 3 (ipykernel)",
   "language": "python",
   "name": "python3"
  },
  "language_info": {
   "codemirror_mode": {
    "name": "ipython",
    "version": 3
   },
   "file_extension": ".py",
   "mimetype": "text/x-python",
   "name": "python",
   "nbconvert_exporter": "python",
   "pygments_lexer": "ipython3",
   "version": "3.11.5"
  }
 },
 "nbformat": 4,
 "nbformat_minor": 5
}
