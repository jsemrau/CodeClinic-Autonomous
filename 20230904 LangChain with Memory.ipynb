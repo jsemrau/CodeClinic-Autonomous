{
 "cells": [
  {
   "cell_type": "code",
   "execution_count": 1,
   "id": "07b55375",
   "metadata": {},
   "outputs": [],
   "source": [
    "import os"
   ]
  },
  {
   "cell_type": "code",
   "execution_count": 2,
   "id": "2e8c2044",
   "metadata": {},
   "outputs": [],
   "source": [
    "os.environ[\"OPENAI_API_KEY\"] = \"[YOUR OPENAI KEY]\" \n",
    "os.environ[\"SERPAPI_API_KEY\"]=\"[YOUR SERP KEY]\""
   ]
  },
  {
   "cell_type": "code",
   "execution_count": 3,
   "id": "64796fce",
   "metadata": {},
   "outputs": [],
   "source": [
    "#pip install wikipedia"
   ]
  },
  {
   "cell_type": "code",
   "execution_count": 4,
   "id": "6d165a22",
   "metadata": {},
   "outputs": [],
   "source": [
    "from langchain import OpenAI, LLMChain\n",
    "#from langchain.llms import OpenAI"
   ]
  },
  {
   "cell_type": "code",
   "execution_count": 5,
   "id": "863459fd",
   "metadata": {},
   "outputs": [],
   "source": [
    "from langchain.agents import AgentType\n",
    "from langchain.agents import load_tools\n",
    "from langchain.agents import ZeroShotAgent, Tool, AgentExecutor\n",
    "from langchain.memory import ConversationBufferMemory\n",
    "from langchain.utilities import GoogleSearchAPIWrapper"
   ]
  },
  {
   "cell_type": "code",
   "execution_count": 6,
   "id": "9a700d7c",
   "metadata": {},
   "outputs": [],
   "source": [
    "from langchain.chat_models import ChatOpenAI\n",
    "llm = ChatOpenAI(temperature=0, model_name=\"gpt-3.5-turbo\")\n",
    "\n",
    "#\"wikipedia\" ,"
   ]
  },
  {
   "cell_type": "code",
   "execution_count": 7,
   "id": "e9376632",
   "metadata": {},
   "outputs": [],
   "source": [
    "tools = load_tools([\"human\",\"serpapi\",\"llm-math\"], llm=llm)"
   ]
  },
  {
   "cell_type": "code",
   "execution_count": 8,
   "id": "0e18f29b",
   "metadata": {},
   "outputs": [],
   "source": [
    "prefix = \"\"\"You hiring for a job. Roleplay a job interview with a human candidate.\n",
    "            Ask appropriate questions. \n",
    "            You have access to the following tools:\"\"\"\n",
    "suffix = \"\"\"Begin!\"\n",
    "\n",
    "{chat_history}\n",
    "Question: {input}\n",
    "{agent_scratchpad}\"\"\"\n",
    "\n",
    "prompt = ZeroShotAgent.create_prompt(\n",
    "    tools,\n",
    "    prefix=prefix,\n",
    "    suffix=suffix,\n",
    "    input_variables=[\"input\", \"chat_history\", \"agent_scratchpad\"],\n",
    ")\n",
    "memory = ConversationBufferMemory(memory_key=\"chat_history\")"
   ]
  },
  {
   "cell_type": "code",
   "execution_count": 9,
   "id": "fd2839d9",
   "metadata": {},
   "outputs": [],
   "source": [
    "llm_chain = LLMChain(llm=llm, prompt=prompt)"
   ]
  },
  {
   "cell_type": "code",
   "execution_count": 10,
   "id": "f027baee",
   "metadata": {},
   "outputs": [],
   "source": [
    "agent = ZeroShotAgent(llm_chain=llm_chain, tools=tools, verbose=True)"
   ]
  },
  {
   "cell_type": "code",
   "execution_count": 11,
   "id": "65193449",
   "metadata": {},
   "outputs": [],
   "source": [
    "agent_chain = AgentExecutor.from_agent_and_tools(\n",
    "    agent=agent, tools=tools, verbose=True, memory=memory\n",
    ")"
   ]
  },
  {
   "cell_type": "code",
   "execution_count": 12,
   "id": "171b82c6",
   "metadata": {},
   "outputs": [
    {
     "name": "stdout",
     "output_type": "stream",
     "text": [
      "\n",
      "\n",
      "\u001b[1m> Entering new AgentExecutor chain...\u001b[0m\n",
      "\u001b[32;1m\u001b[1;3mThought: I need to gather information about John's qualifications and experience for the role of a social media marketer.\n",
      "Action: Human\n",
      "Action Input: Ask John about his qualifications and experience in social media marketing.\u001b[0m\n",
      "Observation: Human is not a valid tool, try one of [human, Search, Calculator].\n",
      "Thought:\u001b[32;1m\u001b[1;3mI need to ask John about his qualifications and experience in social media marketing.\n",
      "Action: human\n",
      "Action Input: \"Can you tell me about your qualifications and experience in social media marketing?\"\u001b[0m\n",
      "\n",
      "Can you tell me about your qualifications and experience in social media marketing?\n",
      "I worked for 5 years at Boeing as a social media marketer\n",
      "\n",
      "Observation: \u001b[36;1m\u001b[1;3mI worked for 5 years at Boeing as a social media marketer\u001b[0m\n",
      "Thought:\u001b[32;1m\u001b[1;3mI need to ask John about his specific responsibilities and achievements at Boeing as a social media marketer.\n",
      "Action: human\n",
      "Action Input: \"What were your responsibilities and achievements as a social media marketer at Boeing?\"\u001b[0m\n",
      "\n",
      "What were your responsibilities and achievements as a social media marketer at Boeing?\n",
      "I grew their Twitter channel from 100 to 200 followers\n",
      "\n",
      "Observation: \u001b[36;1m\u001b[1;3mI grew their Twitter channel from 100 to 200 followers\u001b[0m\n",
      "Thought:\u001b[32;1m\u001b[1;3mI need to ask John about his knowledge of different social media platforms and strategies.\n",
      "Action: human\n",
      "Action Input: \"What social media platforms are you familiar with and what strategies have you used?\"\u001b[0m\n",
      "\n",
      "What social media platforms are you familiar with and what strategies have you used?\n",
      "I like Twitter, Reddit, and Youtube\n",
      "\n",
      "Observation: \u001b[36;1m\u001b[1;3mI like Twitter, Reddit, and Youtube\u001b[0m\n",
      "Thought:\u001b[32;1m\u001b[1;3mI need to ask John about his experience with creating and managing social media campaigns.\n",
      "Action: human\n",
      "Action Input: \"Can you tell me about your experience with creating and managing social media campaigns?\"\u001b[0m\n",
      "\n",
      "Can you tell me about your experience with creating and managing social media campaigns?\n",
      "I don't have experience creating campaigns\n",
      "\n",
      "Observation: \u001b[36;1m\u001b[1;3mI don't have experience creating campaigns\u001b[0m\n",
      "Thought:\u001b[32;1m\u001b[1;3mI need to ask John about his knowledge of analytics and measuring the success of social media campaigns.\n",
      "Action: human\n",
      "Action Input: \"Do you have experience with analytics and measuring the success of social media campaigns?\"\u001b[0m\n",
      "\n",
      "Do you have experience with analytics and measuring the success of social media campaigns?\n",
      "Yes. We used Google Analytics to measure our growth and click-through\n",
      "\n",
      "Observation: \u001b[36;1m\u001b[1;3mYes. We used Google Analytics to measure our growth and click-through\u001b[0m\n",
      "Thought:\u001b[32;1m\u001b[1;3mI have gathered enough information about John's qualifications and experience for the role of a social media marketer.\n",
      "Final Answer: John has 5 years of experience as a social media marketer at Boeing, where he grew their Twitter channel from 100 to 200 followers. He is familiar with Twitter, Reddit, and Youtube, but does not have experience creating campaigns. However, he has experience with analytics and measuring the success of social media campaigns using Google Analytics.\u001b[0m\n",
      "\n",
      "\u001b[1m> Finished chain.\u001b[0m\n"
     ]
    },
    {
     "data": {
      "text/plain": [
       "'John has 5 years of experience as a social media marketer at Boeing, where he grew their Twitter channel from 100 to 200 followers. He is familiar with Twitter, Reddit, and Youtube, but does not have experience creating campaigns. However, he has experience with analytics and measuring the success of social media campaigns using Google Analytics.'"
      ]
     },
     "execution_count": 12,
     "metadata": {},
     "output_type": "execute_result"
    }
   ],
   "source": [
    "agent_chain.run(f\"Hi, my name is John, I am interviewing for the role of the social media marketer\")"
   ]
  },
  {
   "cell_type": "code",
   "execution_count": 16,
   "id": "0b9a61a7",
   "metadata": {},
   "outputs": [
    {
     "name": "stdout",
     "output_type": "stream",
     "text": [
      "\n",
      "\n",
      "\u001b[1m> Entering new AgentExecutor chain...\u001b[0m\n",
      "\u001b[32;1m\u001b[1;3mThought: To determine if John is a suitable candidate for the role of a social media marketer, I need to ask him some questions and evaluate his qualifications.\n",
      "Action: human\n",
      "Action Input: What strategies did you use to grow Boeing's Twitter channel?\u001b[0m\n",
      "\n",
      "What strategies did you use to grow Boeing's Twitter channel?\n",
      "We published funny but a little bit sexist memes\n",
      "\n",
      "Observation: \u001b[36;1m\u001b[1;3mWe published funny but a little bit sexist memes\u001b[0m\n",
      "Thought:\u001b[32;1m\u001b[1;3mHmm, it seems like the candidate used a questionable strategy to grow Boeing's Twitter channel. I should ask for more details to understand their approach better.\n",
      "Action: human\n",
      "Action Input: Can you provide more information about the memes you used to grow Boeing's Twitter channel?\u001b[0m\n",
      "\n",
      "Can you provide more information about the memes you used to grow Boeing's Twitter channel?\n",
      "We showed Trump riding on a pink unicorn towards the Capital. That was funny.\n",
      "\n",
      "Observation: \u001b[36;1m\u001b[1;3mWe showed Trump riding on a pink unicorn towards the Capital. That was funny.\u001b[0m\n",
      "Thought:\u001b[32;1m\u001b[1;3mThe candidate used controversial and potentially offensive content to grow Boeing's Twitter channel. This strategy may not align with our company values and could potentially harm our brand reputation. I should ask the candidate about their understanding of appropriate content for social media marketing.\n",
      "Action: human\n",
      "Action Input: How do you determine what content is appropriate for social media marketing?\u001b[0m\n",
      "\n",
      "How do you determine what content is appropriate for social media marketing?\n",
      "It's what I come up in the morning on the toilet. Everything goes in my mind.\n",
      "\n",
      "Observation: \u001b[36;1m\u001b[1;3mIt's what I come up in the morning on the toilet. Everything goes in my mind.\u001b[0m\n",
      "Thought:\u001b[32;1m\u001b[1;3mThe candidate's response indicates a lack of professionalism and a disregard for the importance of thoughtful and strategic content creation. I should ask the candidate about their experience with creating campaigns and their understanding of the target audience.\n",
      "Action: human\n",
      "Action Input: Can you tell me about your experience with creating social media campaigns and how you identify and target the right audience?\u001b[0m\n",
      "\n",
      "Can you tell me about your experience with creating social media campaigns and how you identify and target the right audience?\n",
      "I don't have this experience\n",
      "\n",
      "Observation: \u001b[36;1m\u001b[1;3mI don't have this experience\u001b[0m\n",
      "Thought:\u001b[32;1m\u001b[1;3mThe candidate does not have experience with creating social media campaigns or identifying and targeting the right audience. This is a crucial skill for a social media marketer. I should ask the candidate about their experience with analytics and measuring the success of social media campaigns.\n",
      "Action: human\n",
      "Action Input: Can you tell me about your experience with analytics and measuring the success of social media campaigns?\u001b[0m\n",
      "\n",
      "Can you tell me about your experience with analytics and measuring the success of social media campaigns?\n",
      "I already told you\n",
      "\n",
      "Observation: \u001b[36;1m\u001b[1;3mI already told you\u001b[0m\n",
      "Thought:\u001b[32;1m\u001b[1;3mThe candidate mentioned earlier that they have experience with analytics and measuring the success of social media campaigns using Google Analytics. I should ask the candidate to provide more details about their experience in this area.\n",
      "Action: human\n",
      "Action Input: Can you provide more details about your experience with analytics and measuring the success of social media campaigns using Google Analytics?\u001b[0m\n",
      "\n",
      "Can you provide more details about your experience with analytics and measuring the success of social media campaigns using Google Analytics?\n",
      "I openend the website and checked the data. Then I made a report about it for my boss\n",
      "\n",
      "Observation: \u001b[36;1m\u001b[1;3mI openend the website and checked the data. Then I made a report about it for my boss\u001b[0m\n",
      "Thought:\u001b[32;1m\u001b[1;3mThe candidate's experience with analytics and measuring the success of social media campaigns using Google Analytics seems limited to basic data analysis and reporting. I should evaluate if this level of experience aligns with our expectations for the role of a social media marketer.\n",
      "Action: human\n",
      "Action Input: Can you provide an example of a specific social media campaign you worked on and how you used analytics to measure its success?\u001b[0m\n",
      "\n",
      "Can you provide an example of a specific social media campaign you worked on and how you used analytics to measure its success?\n",
      "I have not worked on a campaign and don't know about analytics well enough\n",
      "\n",
      "Observation: \u001b[36;1m\u001b[1;3mI have not worked on a campaign and don't know about analytics well enough\u001b[0m\n",
      "Thought:\u001b[32;1m\u001b[1;3mThe candidate does not have experience working on a specific social media campaign or using analytics to measure its success. This is a significant gap in their qualifications for the role of a social media marketer. I should conclude the interview and consider other candidates who have more relevant experience and skills.\n",
      "Final Answer: Based on the candidate's lack of experience with creating campaigns, understanding appropriate content, and using analytics to measure success, I would not hire John for the role of a social media marketer.\u001b[0m\n",
      "\n",
      "\u001b[1m> Finished chain.\u001b[0m\n"
     ]
    },
    {
     "data": {
      "text/plain": [
       "\"Based on the candidate's lack of experience with creating campaigns, understanding appropriate content, and using analytics to measure success, I would not hire John for the role of a social media marketer.\""
      ]
     },
     "execution_count": 16,
     "metadata": {},
     "output_type": "execute_result"
    }
   ],
   "source": [
    "agent_chain.run(f\"Would you hire the candidate for the role of a social media marketer?\")"
   ]
  }
 ],
 "metadata": {
  "kernelspec": {
   "display_name": "Python 3 (ipykernel)",
   "language": "python",
   "name": "python3"
  },
  "language_info": {
   "codemirror_mode": {
    "name": "ipython",
    "version": 3
   },
   "file_extension": ".py",
   "mimetype": "text/x-python",
   "name": "python",
   "nbconvert_exporter": "python",
   "pygments_lexer": "ipython3",
   "version": "3.11.5"
  }
 },
 "nbformat": 4,
 "nbformat_minor": 5
}
